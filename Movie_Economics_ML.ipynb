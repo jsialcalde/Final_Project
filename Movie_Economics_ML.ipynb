{
 "cells": [
  {
   "cell_type": "code",
   "execution_count": 1,
   "metadata": {},
   "outputs": [
    {
     "name": "stdout",
     "output_type": "stream",
     "text": [
      "Requirement already up-to-date: sklearn in c:\\users\\monol\\anaconda3\\envs\\pythondata\\lib\\site-packages (0.0)\n",
      "Requirement already satisfied, skipping upgrade: scikit-learn in c:\\users\\monol\\anaconda3\\envs\\pythondata\\lib\\site-packages (from sklearn) (0.21.3)\n",
      "Requirement already satisfied, skipping upgrade: numpy>=1.11.0 in c:\\users\\monol\\anaconda3\\envs\\pythondata\\lib\\site-packages (from scikit-learn->sklearn) (1.16.4)\n",
      "Requirement already satisfied, skipping upgrade: scipy>=0.17.0 in c:\\users\\monol\\anaconda3\\envs\\pythondata\\lib\\site-packages (from scikit-learn->sklearn) (1.2.1)\n",
      "Requirement already satisfied, skipping upgrade: joblib>=0.11 in c:\\users\\monol\\anaconda3\\envs\\pythondata\\lib\\site-packages (from scikit-learn->sklearn) (0.14.0)\n"
     ]
    }
   ],
   "source": [
    "# Update sklearn to prevent version mismatches\n",
    "!pip install sklearn --upgrade"
   ]
  },
  {
   "cell_type": "code",
   "execution_count": 2,
   "metadata": {},
   "outputs": [
    {
     "name": "stdout",
     "output_type": "stream",
     "text": [
      "Requirement already satisfied: joblib in c:\\users\\monol\\anaconda3\\envs\\pythondata\\lib\\site-packages (0.14.0)\n"
     ]
    }
   ],
   "source": [
    "# install joblib. This will be used to save your model. \n",
    "# Restart your kernel after installing \n",
    "!pip install joblib"
   ]
  },
  {
   "cell_type": "code",
   "execution_count": 3,
   "metadata": {},
   "outputs": [],
   "source": [
    "import warnings\n",
    "warnings.simplefilter('ignore')\n",
    "\n",
    "# %matplotlib inline\n",
    "import matplotlib.pyplot as plt\n",
    "import numpy as np\n",
    "import pandas as pd"
   ]
  },
  {
   "cell_type": "markdown",
   "metadata": {},
   "source": [
    "# Read the CSV and Perform Basic Data Cleaning"
   ]
  },
  {
   "cell_type": "code",
   "execution_count": 4,
   "metadata": {},
   "outputs": [
    {
     "data": {
      "text/html": [
       "<div>\n",
       "<style scoped>\n",
       "    .dataframe tbody tr th:only-of-type {\n",
       "        vertical-align: middle;\n",
       "    }\n",
       "\n",
       "    .dataframe tbody tr th {\n",
       "        vertical-align: top;\n",
       "    }\n",
       "\n",
       "    .dataframe thead th {\n",
       "        text-align: right;\n",
       "    }\n",
       "</style>\n",
       "<table border=\"1\" class=\"dataframe\">\n",
       "  <thead>\n",
       "    <tr style=\"text-align: right;\">\n",
       "      <th></th>\n",
       "      <th>LOCATION</th>\n",
       "      <th>TIME</th>\n",
       "      <th>GDP</th>\n",
       "      <th>GDP_1</th>\n",
       "      <th>GDP_2</th>\n",
       "      <th>Unemployment</th>\n",
       "      <th>Unemployment_1</th>\n",
       "      <th>Unemployment_2</th>\n",
       "      <th>Confidence</th>\n",
       "      <th>Confidence_1</th>\n",
       "      <th>Confidence_2</th>\n",
       "      <th>Median_Income</th>\n",
       "      <th>Median_Income_1</th>\n",
       "      <th>Median_Income_2</th>\n",
       "    </tr>\n",
       "  </thead>\n",
       "  <tbody>\n",
       "    <tr>\n",
       "      <th>0</th>\n",
       "      <td>USA</td>\n",
       "      <td>1992</td>\n",
       "      <td>3.522443</td>\n",
       "      <td>-0.108262</td>\n",
       "      <td>1.885960</td>\n",
       "      <td>7.508333</td>\n",
       "      <td>6.816667</td>\n",
       "      <td>5.616667</td>\n",
       "      <td>98.883736</td>\n",
       "      <td>98.929730</td>\n",
       "      <td>99.391740</td>\n",
       "      <td>53897</td>\n",
       "      <td>54318</td>\n",
       "      <td>55952</td>\n",
       "    </tr>\n",
       "    <tr>\n",
       "      <th>1</th>\n",
       "      <td>USA</td>\n",
       "      <td>1993</td>\n",
       "      <td>2.752852</td>\n",
       "      <td>3.522443</td>\n",
       "      <td>-0.108262</td>\n",
       "      <td>6.900000</td>\n",
       "      <td>7.508333</td>\n",
       "      <td>6.816667</td>\n",
       "      <td>99.561792</td>\n",
       "      <td>98.883736</td>\n",
       "      <td>98.929730</td>\n",
       "      <td>53610</td>\n",
       "      <td>53897</td>\n",
       "      <td>54318</td>\n",
       "    </tr>\n",
       "    <tr>\n",
       "      <th>2</th>\n",
       "      <td>USA</td>\n",
       "      <td>1994</td>\n",
       "      <td>4.028831</td>\n",
       "      <td>2.752852</td>\n",
       "      <td>3.522443</td>\n",
       "      <td>6.083333</td>\n",
       "      <td>6.900000</td>\n",
       "      <td>7.508333</td>\n",
       "      <td>100.623117</td>\n",
       "      <td>99.561792</td>\n",
       "      <td>98.883736</td>\n",
       "      <td>54233</td>\n",
       "      <td>53610</td>\n",
       "      <td>53897</td>\n",
       "    </tr>\n",
       "    <tr>\n",
       "      <th>3</th>\n",
       "      <td>USA</td>\n",
       "      <td>1995</td>\n",
       "      <td>2.684285</td>\n",
       "      <td>4.028831</td>\n",
       "      <td>2.752852</td>\n",
       "      <td>5.608333</td>\n",
       "      <td>6.083333</td>\n",
       "      <td>6.900000</td>\n",
       "      <td>100.611942</td>\n",
       "      <td>100.623117</td>\n",
       "      <td>99.561792</td>\n",
       "      <td>55931</td>\n",
       "      <td>54233</td>\n",
       "      <td>53610</td>\n",
       "    </tr>\n",
       "    <tr>\n",
       "      <th>4</th>\n",
       "      <td>USA</td>\n",
       "      <td>1996</td>\n",
       "      <td>3.772504</td>\n",
       "      <td>2.684285</td>\n",
       "      <td>4.028831</td>\n",
       "      <td>5.416667</td>\n",
       "      <td>5.608333</td>\n",
       "      <td>6.083333</td>\n",
       "      <td>100.787433</td>\n",
       "      <td>100.611942</td>\n",
       "      <td>100.623117</td>\n",
       "      <td>56744</td>\n",
       "      <td>55931</td>\n",
       "      <td>54233</td>\n",
       "    </tr>\n",
       "  </tbody>\n",
       "</table>\n",
       "</div>"
      ],
      "text/plain": [
       "  LOCATION  TIME       GDP     GDP_1     GDP_2  Unemployment  Unemployment_1  \\\n",
       "0      USA  1992  3.522443 -0.108262  1.885960      7.508333        6.816667   \n",
       "1      USA  1993  2.752852  3.522443 -0.108262      6.900000        7.508333   \n",
       "2      USA  1994  4.028831  2.752852  3.522443      6.083333        6.900000   \n",
       "3      USA  1995  2.684285  4.028831  2.752852      5.608333        6.083333   \n",
       "4      USA  1996  3.772504  2.684285  4.028831      5.416667        5.608333   \n",
       "\n",
       "   Unemployment_2  Confidence  Confidence_1  Confidence_2  Median_Income  \\\n",
       "0        5.616667   98.883736     98.929730     99.391740          53897   \n",
       "1        6.816667   99.561792     98.883736     98.929730          53610   \n",
       "2        7.508333  100.623117     99.561792     98.883736          54233   \n",
       "3        6.900000  100.611942    100.623117     99.561792          55931   \n",
       "4        6.083333  100.787433    100.611942    100.623117          56744   \n",
       "\n",
       "   Median_Income_1  Median_Income_2  \n",
       "0            54318            55952  \n",
       "1            53897            54318  \n",
       "2            53610            53897  \n",
       "3            54233            53610  \n",
       "4            55931            54233  "
      ]
     },
     "execution_count": 4,
     "metadata": {},
     "output_type": "execute_result"
    }
   ],
   "source": [
    "df = pd.read_csv(\"USA_Multiyear_Indicators.csv\", index_col=0)\n",
    "# Drop the null columns where all values are null\n",
    "df = df.dropna(axis='columns', how='all')\n",
    "# Drop the null rows\n",
    "df = df.dropna()\n",
    "#df[\"GDP\"] = df[\"GDP\"].round(0).astype(\"int\")\n",
    "df.head()"
   ]
  },
  {
   "cell_type": "markdown",
   "metadata": {},
   "source": [
    "# Select your features (columns)"
   ]
  },
  {
   "cell_type": "code",
   "execution_count": 40,
   "metadata": {},
   "outputs": [
    {
     "data": {
      "text/html": [
       "<div>\n",
       "<style scoped>\n",
       "    .dataframe tbody tr th:only-of-type {\n",
       "        vertical-align: middle;\n",
       "    }\n",
       "\n",
       "    .dataframe tbody tr th {\n",
       "        vertical-align: top;\n",
       "    }\n",
       "\n",
       "    .dataframe thead th {\n",
       "        text-align: right;\n",
       "    }\n",
       "</style>\n",
       "<table border=\"1\" class=\"dataframe\">\n",
       "  <thead>\n",
       "    <tr style=\"text-align: right;\">\n",
       "      <th></th>\n",
       "      <th>GDP</th>\n",
       "      <th>GDP_1</th>\n",
       "      <th>GDP_2</th>\n",
       "      <th>Confidence</th>\n",
       "      <th>Confidence_1</th>\n",
       "      <th>Confidence_2</th>\n",
       "      <th>Median_Income</th>\n",
       "      <th>Median_Income_1</th>\n",
       "      <th>Median_Income_2</th>\n",
       "    </tr>\n",
       "  </thead>\n",
       "  <tbody>\n",
       "    <tr>\n",
       "      <th>0</th>\n",
       "      <td>3.522443</td>\n",
       "      <td>-0.108262</td>\n",
       "      <td>1.885960</td>\n",
       "      <td>98.883736</td>\n",
       "      <td>98.929730</td>\n",
       "      <td>99.391740</td>\n",
       "      <td>53897</td>\n",
       "      <td>54318</td>\n",
       "      <td>55952</td>\n",
       "    </tr>\n",
       "    <tr>\n",
       "      <th>1</th>\n",
       "      <td>2.752852</td>\n",
       "      <td>3.522443</td>\n",
       "      <td>-0.108262</td>\n",
       "      <td>99.561792</td>\n",
       "      <td>98.883736</td>\n",
       "      <td>98.929730</td>\n",
       "      <td>53610</td>\n",
       "      <td>53897</td>\n",
       "      <td>54318</td>\n",
       "    </tr>\n",
       "    <tr>\n",
       "      <th>2</th>\n",
       "      <td>4.028831</td>\n",
       "      <td>2.752852</td>\n",
       "      <td>3.522443</td>\n",
       "      <td>100.623117</td>\n",
       "      <td>99.561792</td>\n",
       "      <td>98.883736</td>\n",
       "      <td>54233</td>\n",
       "      <td>53610</td>\n",
       "      <td>53897</td>\n",
       "    </tr>\n",
       "    <tr>\n",
       "      <th>3</th>\n",
       "      <td>2.684285</td>\n",
       "      <td>4.028831</td>\n",
       "      <td>2.752852</td>\n",
       "      <td>100.611942</td>\n",
       "      <td>100.623117</td>\n",
       "      <td>99.561792</td>\n",
       "      <td>55931</td>\n",
       "      <td>54233</td>\n",
       "      <td>53610</td>\n",
       "    </tr>\n",
       "    <tr>\n",
       "      <th>4</th>\n",
       "      <td>3.772504</td>\n",
       "      <td>2.684285</td>\n",
       "      <td>4.028831</td>\n",
       "      <td>100.787433</td>\n",
       "      <td>100.611942</td>\n",
       "      <td>100.623117</td>\n",
       "      <td>56744</td>\n",
       "      <td>55931</td>\n",
       "      <td>54233</td>\n",
       "    </tr>\n",
       "  </tbody>\n",
       "</table>\n",
       "</div>"
      ],
      "text/plain": [
       "        GDP     GDP_1     GDP_2  Confidence  Confidence_1  Confidence_2  \\\n",
       "0  3.522443 -0.108262  1.885960   98.883736     98.929730     99.391740   \n",
       "1  2.752852  3.522443 -0.108262   99.561792     98.883736     98.929730   \n",
       "2  4.028831  2.752852  3.522443  100.623117     99.561792     98.883736   \n",
       "3  2.684285  4.028831  2.752852  100.611942    100.623117     99.561792   \n",
       "4  3.772504  2.684285  4.028831  100.787433    100.611942    100.623117   \n",
       "\n",
       "   Median_Income  Median_Income_1  Median_Income_2  \n",
       "0          53897            54318            55952  \n",
       "1          53610            53897            54318  \n",
       "2          54233            53610            53897  \n",
       "3          55931            54233            53610  \n",
       "4          56744            55931            54233  "
      ]
     },
     "execution_count": 40,
     "metadata": {},
     "output_type": "execute_result"
    }
   ],
   "source": [
    "# Set features. This will also be used as your x values.\n",
    "#selected_features = df[['names', 'of', 'selected', 'features', 'here']]\n",
    "#-#\n",
    "df = df.head(1000)\n",
    "\n",
    "selected_features1 = df.iloc[:,2:5]\n",
    "selected_features2 = df.iloc[:,8:18]\n",
    "selected_features = pd.merge(selected_features1, selected_features2, left_index=True, right_index=True)\n",
    "selected_features.head()"
   ]
  },
  {
   "cell_type": "markdown",
   "metadata": {},
   "source": [
    "# Create a Train Test Split\n",
    "\n",
    "Use `koi_disposition` for the y values"
   ]
  },
  {
   "cell_type": "code",
   "execution_count": 51,
   "metadata": {},
   "outputs": [
    {
     "name": "stdout",
     "output_type": "stream",
     "text": [
      "(26, 9) (26, 1)\n"
     ]
    }
   ],
   "source": [
    "from sklearn.model_selection import train_test_split\n",
    "\n",
    "X = selected_features.to_numpy()\n",
    "y = df[\"Unemployment\"].to_numpy().reshape(-1, 1)\n",
    "#y = np.matmul(y,np.array([0,1,2])).reshape(-1, 1)\n",
    "#y = df[\"koi_disposition\"].values.reshape(-1, 1)\n",
    "print(X.shape, y.shape)\n",
    "\n",
    "X_train, X_test, y_train, y_test = train_test_split(X, y, random_state=42)"
   ]
  },
  {
   "cell_type": "markdown",
   "metadata": {},
   "source": [
    "# Pre-processing\n",
    "\n",
    "Scale the data using the MinMaxScaler and perform some feature selection"
   ]
  },
  {
   "cell_type": "code",
   "execution_count": 52,
   "metadata": {},
   "outputs": [],
   "source": [
    "# Scale your data\n",
    "from sklearn.preprocessing import MinMaxScaler\n",
    "X_scaler = MinMaxScaler().fit(X_train)\n",
    "y_scaler = MinMaxScaler().fit(y_train)\n",
    "\n",
    "X_train_scaled = X_scaler.transform(X_train)\n",
    "X_test_scaled = X_scaler.transform(X_test)\n",
    "y_train_scaled = y_scaler.transform(y_train)\n",
    "y_test_scaled = y_scaler.transform(y_test)"
   ]
  },
  {
   "cell_type": "markdown",
   "metadata": {},
   "source": [
    "# Train the Model\n",
    "\n"
   ]
  },
  {
   "cell_type": "code",
   "execution_count": 53,
   "metadata": {},
   "outputs": [
    {
     "data": {
      "image/png": "[encoded data removed]",
      "text/plain": [
       "<Figure size 432x288 with 1 Axes>"
      ]
     },
     "metadata": {
      "needs_background": "light"
     },
     "output_type": "display_data"
    }
   ],
   "source": [
    "from sklearn.linear_model import LinearRegression\n",
    "model = LinearRegression()\n",
    "model.fit(X_train_scaled, y_train_scaled)\n",
    "plt.scatter(model.predict(X_train_scaled), model.predict(X_train_scaled) - y_train_scaled, c=\"blue\", label=\"Training Data\")\n",
    "plt.scatter(model.predict(X_test_scaled), model.predict(X_test_scaled) - y_test_scaled, c=\"orange\", label=\"Testing Data\")\n",
    "plt.legend()\n",
    "plt.hlines(y=0, xmin=y_test_scaled.min(), xmax=y_test_scaled.max())\n",
    "plt.title(\"Residual Plot\")\n",
    "plt.show()"
   ]
  },
  {
   "cell_type": "code",
   "execution_count": 54,
   "metadata": {},
   "outputs": [
    {
     "name": "stdout",
     "output_type": "stream",
     "text": [
      "Training Data Score: -11.752245535557245\n",
      "Testing Data Score: -23.405962403296222\n"
     ]
    }
   ],
   "source": [
    "print(f\"Training Data Score: {model.score(X_train_scaled, y_train)}\")\n",
    "print(f\"Testing Data Score: {model.score(X_test_scaled, y_test)}\")"
   ]
  },
  {
   "cell_type": "markdown",
   "metadata": {},
   "source": [
    "# Save the Model"
   ]
  },
  {
   "cell_type": "code",
   "execution_count": 55,
   "metadata": {},
   "outputs": [
    {
     "data": {
      "text/plain": [
       "['gdp_model_rick.sav']"
      ]
     },
     "execution_count": 55,
     "metadata": {},
     "output_type": "execute_result"
    }
   ],
   "source": [
    "# save your model by updating \"your_name\" with your name\n",
    "# and \"your_model\" with your model variable\n",
    "# be sure to turn this in to BCS\n",
    "# if joblib fails to import, try running the command to install in terminal/git-bash\n",
    "import joblib\n",
    "filename = 'gdp_model_rick.sav'\n",
    "joblib.dump(model, filename)"
   ]
  },
  {
   "cell_type": "code",
   "execution_count": null,
   "metadata": {},
   "outputs": [],
   "source": []
  }
 ],
 "metadata": {
  "kernel_info": {
   "name": "dev"
  },
  "kernelspec": {
   "display_name": "Python 3",
   "language": "python",
   "name": "python3"
  },
  "language_info": {
   "codemirror_mode": {
    "name": "ipython",
    "version": 3
   },
   "file_extension": ".py",
   "mimetype": "text/x-python",
   "name": "python",
   "nbconvert_exporter": "python",
   "pygments_lexer": "ipython3",
   "version": "3.6.8"
  },
  "nteract": {
   "version": "0.12.3"
  }
 },
 "nbformat": 4,
 "nbformat_minor": 2
}
