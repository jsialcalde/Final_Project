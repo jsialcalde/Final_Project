{
 "cells": [
  {
   "cell_type": "code",
   "execution_count": 11,
   "metadata": {},
   "outputs": [
    {
     "name": "stdout",
     "output_type": "stream",
     "text": [
      "Requirement already up-to-date: sklearn in c:\\users\\monol\\anaconda3\\envs\\pythondata\\lib\\site-packages (0.0)\n",
      "Requirement already satisfied, skipping upgrade: scikit-learn in c:\\users\\monol\\anaconda3\\envs\\pythondata\\lib\\site-packages (from sklearn) (0.21.3)\n",
      "Requirement already satisfied, skipping upgrade: scipy>=0.17.0 in c:\\users\\monol\\anaconda3\\envs\\pythondata\\lib\\site-packages (from scikit-learn->sklearn) (1.2.1)\n",
      "Requirement already satisfied, skipping upgrade: joblib>=0.11 in c:\\users\\monol\\anaconda3\\envs\\pythondata\\lib\\site-packages (from scikit-learn->sklearn) (0.14.0)\n",
      "Requirement already satisfied, skipping upgrade: numpy>=1.11.0 in c:\\users\\monol\\anaconda3\\envs\\pythondata\\lib\\site-packages (from scikit-learn->sklearn) (1.16.4)\n"
     ]
    }
   ],
   "source": [
    "# Update sklearn to prevent version mismatches\n",
    "!pip install sklearn --upgrade"
   ]
  },
  {
   "cell_type": "code",
   "execution_count": 12,
   "metadata": {},
   "outputs": [
    {
     "name": "stdout",
     "output_type": "stream",
     "text": [
      "Requirement already satisfied: joblib in c:\\users\\monol\\anaconda3\\envs\\pythondata\\lib\\site-packages (0.14.0)\n"
     ]
    }
   ],
   "source": [
    "# install joblib. This will be used to save your model. \n",
    "# Restart your kernel after installing \n",
    "!pip install joblib"
   ]
  },
  {
   "cell_type": "code",
   "execution_count": 13,
   "metadata": {},
   "outputs": [],
   "source": [
    "import warnings\n",
    "warnings.simplefilter('ignore')\n",
    "\n",
    "# %matplotlib inline\n",
    "import matplotlib.pyplot as plt\n",
    "import numpy as np\n",
    "import pandas as pd"
   ]
  },
  {
   "cell_type": "code",
   "execution_count": 14,
   "metadata": {},
   "outputs": [
    {
     "data": {
      "text/html": [
       "<div>\n",
       "<style scoped>\n",
       "    .dataframe tbody tr th:only-of-type {\n",
       "        vertical-align: middle;\n",
       "    }\n",
       "\n",
       "    .dataframe tbody tr th {\n",
       "        vertical-align: top;\n",
       "    }\n",
       "\n",
       "    .dataframe thead th {\n",
       "        text-align: right;\n",
       "    }\n",
       "</style>\n",
       "<table border=\"1\" class=\"dataframe\">\n",
       "  <thead>\n",
       "    <tr style=\"text-align: right;\">\n",
       "      <th></th>\n",
       "      <th>Title</th>\n",
       "      <th>Year</th>\n",
       "      <th>Release Date</th>\n",
       "      <th>Genre</th>\n",
       "      <th>IMDb Rating</th>\n",
       "      <th>Metascore</th>\n",
       "      <th>Rated</th>\n",
       "      <th>Box_Office_Adjusted</th>\n",
       "      <th>GDP</th>\n",
       "      <th>GDP_1</th>\n",
       "      <th>...</th>\n",
       "      <th>musical</th>\n",
       "      <th>documentary</th>\n",
       "      <th>western</th>\n",
       "      <th>news</th>\n",
       "      <th>Month_Year</th>\n",
       "      <th>President</th>\n",
       "      <th>End Date</th>\n",
       "      <th>Approving</th>\n",
       "      <th>Disapproving</th>\n",
       "      <th>Unsure/NoData</th>\n",
       "    </tr>\n",
       "  </thead>\n",
       "  <tbody>\n",
       "    <tr>\n",
       "      <th>0</th>\n",
       "      <td>Pulp Fiction</td>\n",
       "      <td>1994</td>\n",
       "      <td>14-Oct-94</td>\n",
       "      <td>Crime, Drama</td>\n",
       "      <td>8.9</td>\n",
       "      <td>94.0</td>\n",
       "      <td>R</td>\n",
       "      <td>174798000.0</td>\n",
       "      <td>4.028831</td>\n",
       "      <td>2.752852</td>\n",
       "      <td>...</td>\n",
       "      <td>0</td>\n",
       "      <td>0</td>\n",
       "      <td>0</td>\n",
       "      <td>0</td>\n",
       "      <td>10/1994</td>\n",
       "      <td>Clinton</td>\n",
       "      <td>1994.0</td>\n",
       "      <td>43.333333</td>\n",
       "      <td>49.666667</td>\n",
       "      <td>5.666667</td>\n",
       "    </tr>\n",
       "    <tr>\n",
       "      <th>1</th>\n",
       "      <td>The Amazing Spider-Man 2</td>\n",
       "      <td>2014</td>\n",
       "      <td>2-May-14</td>\n",
       "      <td>Action, Adventure, Sci-Fi</td>\n",
       "      <td>6.6</td>\n",
       "      <td>53.0</td>\n",
       "      <td>PG-13</td>\n",
       "      <td>185110348.7</td>\n",
       "      <td>2.525971</td>\n",
       "      <td>1.842081</td>\n",
       "      <td>...</td>\n",
       "      <td>0</td>\n",
       "      <td>0</td>\n",
       "      <td>0</td>\n",
       "      <td>0</td>\n",
       "      <td>05/2014</td>\n",
       "      <td>Barack Obama</td>\n",
       "      <td>2014.0</td>\n",
       "      <td>44.129032</td>\n",
       "      <td>50.806452</td>\n",
       "      <td>5.064516</td>\n",
       "    </tr>\n",
       "    <tr>\n",
       "      <th>3</th>\n",
       "      <td>Jurassic Park</td>\n",
       "      <td>1993</td>\n",
       "      <td>11-Jun-93</td>\n",
       "      <td>Adventure, Sci-Fi, Thriller</td>\n",
       "      <td>8.1</td>\n",
       "      <td>68.0</td>\n",
       "      <td>PG-13</td>\n",
       "      <td>75197468.8</td>\n",
       "      <td>2.752852</td>\n",
       "      <td>3.522443</td>\n",
       "      <td>...</td>\n",
       "      <td>0</td>\n",
       "      <td>0</td>\n",
       "      <td>0</td>\n",
       "      <td>0</td>\n",
       "      <td>06/1993</td>\n",
       "      <td>Clinton</td>\n",
       "      <td>1993.0</td>\n",
       "      <td>39.666667</td>\n",
       "      <td>48.666667</td>\n",
       "      <td>10.000000</td>\n",
       "    </tr>\n",
       "    <tr>\n",
       "      <th>4</th>\n",
       "      <td>The Lion King</td>\n",
       "      <td>1994</td>\n",
       "      <td>24-Jun-94</td>\n",
       "      <td>Animation, Adventure, Drama, Family, Musical</td>\n",
       "      <td>8.5</td>\n",
       "      <td>83.0</td>\n",
       "      <td>G</td>\n",
       "      <td>152669828.7</td>\n",
       "      <td>4.028831</td>\n",
       "      <td>2.752852</td>\n",
       "      <td>...</td>\n",
       "      <td>1</td>\n",
       "      <td>0</td>\n",
       "      <td>0</td>\n",
       "      <td>0</td>\n",
       "      <td>06/1994</td>\n",
       "      <td>Clinton</td>\n",
       "      <td>1994.0</td>\n",
       "      <td>46.000000</td>\n",
       "      <td>45.666667</td>\n",
       "      <td>7.333333</td>\n",
       "    </tr>\n",
       "    <tr>\n",
       "      <th>5</th>\n",
       "      <td>Toy Story</td>\n",
       "      <td>1995</td>\n",
       "      <td>22-Nov-95</td>\n",
       "      <td>Animation, Adventure, Comedy, Family, Fantasy</td>\n",
       "      <td>8.3</td>\n",
       "      <td>95.0</td>\n",
       "      <td>G</td>\n",
       "      <td>301126000.0</td>\n",
       "      <td>2.684285</td>\n",
       "      <td>4.028831</td>\n",
       "      <td>...</td>\n",
       "      <td>0</td>\n",
       "      <td>0</td>\n",
       "      <td>0</td>\n",
       "      <td>0</td>\n",
       "      <td>11/1995</td>\n",
       "      <td>Clinton</td>\n",
       "      <td>1995.0</td>\n",
       "      <td>52.500000</td>\n",
       "      <td>38.500000</td>\n",
       "      <td>8.000000</td>\n",
       "    </tr>\n",
       "  </tbody>\n",
       "</table>\n",
       "<p>5 rows × 52 columns</p>\n",
       "</div>"
      ],
      "text/plain": [
       "                      Title  Year Release Date  \\\n",
       "0              Pulp Fiction  1994    14-Oct-94   \n",
       "1  The Amazing Spider-Man 2  2014     2-May-14   \n",
       "3             Jurassic Park  1993    11-Jun-93   \n",
       "4             The Lion King  1994    24-Jun-94   \n",
       "5                 Toy Story  1995    22-Nov-95   \n",
       "\n",
       "                                           Genre  IMDb Rating  Metascore  \\\n",
       "0                                   Crime, Drama          8.9       94.0   \n",
       "1                      Action, Adventure, Sci-Fi          6.6       53.0   \n",
       "3                    Adventure, Sci-Fi, Thriller          8.1       68.0   \n",
       "4   Animation, Adventure, Drama, Family, Musical          8.5       83.0   \n",
       "5  Animation, Adventure, Comedy, Family, Fantasy          8.3       95.0   \n",
       "\n",
       "   Rated  Box_Office_Adjusted       GDP     GDP_1  ...  musical  documentary  \\\n",
       "0      R          174798000.0  4.028831  2.752852  ...        0            0   \n",
       "1  PG-13          185110348.7  2.525971  1.842081  ...        0            0   \n",
       "3  PG-13           75197468.8  2.752852  3.522443  ...        0            0   \n",
       "4      G          152669828.7  4.028831  2.752852  ...        1            0   \n",
       "5      G          301126000.0  2.684285  4.028831  ...        0            0   \n",
       "\n",
       "   western  news  Month_Year     President  End Date  Approving  Disapproving  \\\n",
       "0        0     0     10/1994       Clinton    1994.0  43.333333     49.666667   \n",
       "1        0     0     05/2014  Barack Obama    2014.0  44.129032     50.806452   \n",
       "3        0     0     06/1993       Clinton    1993.0  39.666667     48.666667   \n",
       "4        0     0     06/1994       Clinton    1994.0  46.000000     45.666667   \n",
       "5        0     0     11/1995       Clinton    1995.0  52.500000     38.500000   \n",
       "\n",
       "   Unsure/NoData  \n",
       "0       5.666667  \n",
       "1       5.064516  \n",
       "3      10.000000  \n",
       "4       7.333333  \n",
       "5       8.000000  \n",
       "\n",
       "[5 rows x 52 columns]"
      ]
     },
     "execution_count": 14,
     "metadata": {},
     "output_type": "execute_result"
    }
   ],
   "source": [
    "df = pd.read_csv(\"mergedData.csv\", index_col=0)\n",
    "\n",
    "# Drop the null columns where all values are null\n",
    "df = df.dropna(axis='columns', how='all')\n",
    "\n",
    "# Drop the null rows\n",
    "df = df.dropna()\n",
    "\n",
    "df.head()"
   ]
  },
  {
   "cell_type": "code",
   "execution_count": 15,
   "metadata": {},
   "outputs": [
    {
     "data": {
      "text/html": [
       "<div>\n",
       "<style scoped>\n",
       "    .dataframe tbody tr th:only-of-type {\n",
       "        vertical-align: middle;\n",
       "    }\n",
       "\n",
       "    .dataframe tbody tr th {\n",
       "        vertical-align: top;\n",
       "    }\n",
       "\n",
       "    .dataframe thead th {\n",
       "        text-align: right;\n",
       "    }\n",
       "</style>\n",
       "<table border=\"1\" class=\"dataframe\">\n",
       "  <thead>\n",
       "    <tr style=\"text-align: right;\">\n",
       "      <th></th>\n",
       "      <th>GDP_AVG</th>\n",
       "      <th>Unemployment_AVG</th>\n",
       "      <th>Confidence_AVG</th>\n",
       "      <th>Median_Income_AVG</th>\n",
       "      <th>Approving</th>\n",
       "      <th>Disapproving</th>\n",
       "    </tr>\n",
       "  </thead>\n",
       "  <tbody>\n",
       "    <tr>\n",
       "      <th>0</th>\n",
       "      <td>3.434709</td>\n",
       "      <td>6.830555</td>\n",
       "      <td>99.689548</td>\n",
       "      <td>53913.333333</td>\n",
       "      <td>43.333333</td>\n",
       "      <td>49.666667</td>\n",
       "    </tr>\n",
       "    <tr>\n",
       "      <th>1</th>\n",
       "      <td>2.205866</td>\n",
       "      <td>7.202778</td>\n",
       "      <td>99.206066</td>\n",
       "      <td>56908.333333</td>\n",
       "      <td>44.129032</td>\n",
       "      <td>50.806452</td>\n",
       "    </tr>\n",
       "    <tr>\n",
       "      <th>3</th>\n",
       "      <td>2.055678</td>\n",
       "      <td>7.075000</td>\n",
       "      <td>99.125086</td>\n",
       "      <td>53941.666667</td>\n",
       "      <td>39.666667</td>\n",
       "      <td>48.666667</td>\n",
       "    </tr>\n",
       "    <tr>\n",
       "      <th>4</th>\n",
       "      <td>3.434709</td>\n",
       "      <td>6.830555</td>\n",
       "      <td>99.689548</td>\n",
       "      <td>53913.333333</td>\n",
       "      <td>46.000000</td>\n",
       "      <td>45.666667</td>\n",
       "    </tr>\n",
       "    <tr>\n",
       "      <th>5</th>\n",
       "      <td>3.155323</td>\n",
       "      <td>6.197222</td>\n",
       "      <td>100.265617</td>\n",
       "      <td>54591.333333</td>\n",
       "      <td>52.500000</td>\n",
       "      <td>38.500000</td>\n",
       "    </tr>\n",
       "  </tbody>\n",
       "</table>\n",
       "</div>"
      ],
      "text/plain": [
       "    GDP_AVG  Unemployment_AVG  Confidence_AVG  Median_Income_AVG  Approving  \\\n",
       "0  3.434709          6.830555       99.689548       53913.333333  43.333333   \n",
       "1  2.205866          7.202778       99.206066       56908.333333  44.129032   \n",
       "3  2.055678          7.075000       99.125086       53941.666667  39.666667   \n",
       "4  3.434709          6.830555       99.689548       53913.333333  46.000000   \n",
       "5  3.155323          6.197222      100.265617       54591.333333  52.500000   \n",
       "\n",
       "   Disapproving  \n",
       "0     49.666667  \n",
       "1     50.806452  \n",
       "3     48.666667  \n",
       "4     45.666667  \n",
       "5     38.500000  "
      ]
     },
     "execution_count": 15,
     "metadata": {},
     "output_type": "execute_result"
    }
   ],
   "source": [
    "# Set features. This will also be used as oour X values.\n",
    "\n",
    "# economic data - 3 years rolling average GDP, Unemployment, Consumer Confidence, Median Income\n",
    "selected_features1 = df.iloc[:,20:24]\n",
    "\n",
    "# political data - current year presidential approval/disapproval rating\n",
    "selected_features2 = df.iloc[:,49:51]\n",
    "\n",
    "# merge economic and political features\n",
    "selected_features = pd.merge(selected_features1, selected_features2, left_index=True, right_index=True)\n",
    "\n",
    "selected_features.head()"
   ]
  },
  {
   "cell_type": "code",
   "execution_count": 16,
   "metadata": {},
   "outputs": [],
   "source": [
    "from sklearn.model_selection import train_test_split\n",
    "\n",
    "# train_test like numpy arrays, so transform dataframes into arrays\n",
    "# reshape as needed by train_test\n",
    "X = selected_features.to_numpy()\n",
    "y = df[\"Box_Office_Adjusted\"].to_numpy().reshape(-1, 1)\n",
    "\n",
    "X_train, X_test, y_train, y_test = train_test_split(X, y, random_state=42)"
   ]
  },
  {
   "cell_type": "code",
   "execution_count": 17,
   "metadata": {},
   "outputs": [],
   "source": [
    "# Scale our data\n",
    "from sklearn.preprocessing import StandardScaler\n",
    "\n",
    "# create a scaler fit for training data\n",
    "X_scaler = StandardScaler().fit(X_train)\n",
    "y_scaler = StandardScaler().fit(y_train)\n",
    "\n",
    "# scale the train and test data\n",
    "X_train_scaled = X_scaler.transform(X_train)\n",
    "X_test_scaled = X_scaler.transform(X_test)\n",
    "y_train_scaled = y_scaler.transform(y_train)\n",
    "y_test_scaled = y_scaler.transform(y_test)"
   ]
  },
  {
   "cell_type": "code",
   "execution_count": 37,
   "metadata": {},
   "outputs": [
    {
     "data": {
      "image/png": "[encoded data removed]",
      "text/plain": [
       "<Figure size 1000x500 with 1 Axes>"
      ]
     },
     "metadata": {
      "needs_background": "light"
     },
     "output_type": "display_data"
    }
   ],
   "source": [
    "from sklearn.linear_model import LinearRegression\n",
    "\n",
    "# use a linear regression model for our data\n",
    "model = LinearRegression()\n",
    "\n",
    "# fit training data for model\n",
    "model.fit(X_train_scaled, y_train_scaled)\n",
    "\n",
    "# create a residual plot of training and test data\n",
    "plt.figure(figsize=(10,5), dpi=(100))\n",
    "plt.scatter(model.predict(X_train_scaled), model.predict(X_train_scaled) - y_train_scaled, c=\"blue\", label=\"Training Data\")\n",
    "plt.scatter(model.predict(X_test_scaled), model.predict(X_test_scaled) - y_test_scaled, c=\"orange\", label=\"Testing Data\")\n",
    "plt.legend()\n",
    "plt.hlines(y=0, xmin=y_test_scaled.min(), xmax=y_test_scaled.max())\n",
    "plt.title(\"Impact of Economic, Political, and News Sentiment Features on Movie Box Office\\n---\\nResidual Plot\")\n",
    "plt.xlabel(\"Economic/Political/News Sentiment Features\")\n",
    "plt.ylabel(\"Adjusted Box Office\")\n",
    "plt.savefig('images/movie_box_office_ML.png')\n",
    "plt.show()"
   ]
  },
  {
   "cell_type": "code",
   "execution_count": 35,
   "metadata": {},
   "outputs": [
    {
     "name": "stdout",
     "output_type": "stream",
     "text": [
      "Training Data Score: 0.04548017829826767\n",
      "Testing Data Score: 0.05781108560404524\n"
     ]
    }
   ],
   "source": [
    "# Display R^2 scores of training and test data\n",
    "print(f\"Training Data Score: {model.score(X_train_scaled, y_train_scaled)}\")\n",
    "print(f\"Testing Data Score: {model.score(X_test_scaled, y_test_scaled)}\")"
   ]
  },
  {
   "cell_type": "code",
   "execution_count": 33,
   "metadata": {},
   "outputs": [
    {
     "data": {
      "text/plain": [
       "['box_office_model_final_project.sav']"
      ]
     },
     "execution_count": 33,
     "metadata": {},
     "output_type": "execute_result"
    }
   ],
   "source": [
    "# save our model\n",
    "import joblib\n",
    "filename = 'box_office_model_final_project.sav'\n",
    "joblib.dump(model, filename)"
   ]
  },
  {
   "cell_type": "code",
   "execution_count": null,
   "metadata": {},
   "outputs": [],
   "source": []
  }
 ],
 "metadata": {
  "kernel_info": {
   "name": "dev"
  },
  "kernelspec": {
   "display_name": "Python 3",
   "language": "python",
   "name": "python3"
  },
  "language_info": {
   "codemirror_mode": {
    "name": "ipython",
    "version": 3
   },
   "file_extension": ".py",
   "mimetype": "text/x-python",
   "name": "python",
   "nbconvert_exporter": "python",
   "pygments_lexer": "ipython3",
   "version": "3.6.8"
  },
  "nteract": {
   "version": "0.12.3"
  }
 },
 "nbformat": 4,
 "nbformat_minor": 2
}
